{
 "cells": [
  {
   "cell_type": "markdown",
   "metadata": {},
   "source": [
    "### 1. Problem Formulation"
   ]
  },
  {
   "cell_type": "markdown",
   "metadata": {},
   "source": [
    "From the company's monthly expenses and profit report, investigate:\n",
    "\n",
    "1) How much did R&D spending impact monthly profit?\n",
    "\n",
    "2) Predit profit on future R&D spending.\n",
    "\n",
    "The company is only interested in how a single feature (R&D Spending) affects the response varible (Profit)."
   ]
  },
  {
   "cell_type": "markdown",
   "metadata": {},
   "source": [
    "### 2. Libraries / Packages"
   ]
  },
  {
   "cell_type": "code",
   "execution_count": 1,
   "metadata": {},
   "outputs": [],
   "source": [
    "import os\n",
    "import pandas as pd\n",
    "import numpy as np\n",
    "import matplotlib.pyplot as plt\n",
    "import seaborn as sns\n",
    "from sklearn.linear_model import LinearRegression\n",
    "from sklearn import preprocessing\n",
    "from sklearn.preprocessing import StandardScaler\n",
    "from sklearn.model_selection import train_test_split\n",
    "from sklearn.feature_selection import RFE \n",
    "from sklearn.metrics import r2_score, mean_squared_error, mean_absolute_error\n",
    "\n",
    "%matplotlib inline"
   ]
  },
  {
   "cell_type": "markdown",
   "metadata": {},
   "source": [
    "### 3. Data Preprocessing"
   ]
  },
  {
   "cell_type": "code",
   "execution_count": 2,
   "metadata": {},
   "outputs": [],
   "source": [
    "# Load the dataset and place it into a Dataframe\n",
    "\n",
    "# If you want to load csv without DafaFrame including an index column\n",
    "# df = pd.read_csv('1000_Companies.csv', index_col = 0)\n",
    "\n",
    "df = pd.read_csv('company_expenses_profit.csv')"
   ]
  },
  {
   "cell_type": "markdown",
   "metadata": {},
   "source": [
    "#### a) Exploratory Data Analysis"
   ]
  },
  {
   "cell_type": "markdown",
   "metadata": {},
   "source": [
    "##### Number of observations (rows) and features (columns)"
   ]
  },
  {
   "cell_type": "code",
   "execution_count": 3,
   "metadata": {},
   "outputs": [
    {
     "data": {
      "text/html": [
       "<div>\n",
       "<style scoped>\n",
       "    .dataframe tbody tr th:only-of-type {\n",
       "        vertical-align: middle;\n",
       "    }\n",
       "\n",
       "    .dataframe tbody tr th {\n",
       "        vertical-align: top;\n",
       "    }\n",
       "\n",
       "    .dataframe thead th {\n",
       "        text-align: right;\n",
       "    }\n",
       "</style>\n",
       "<table border=\"1\" class=\"dataframe\">\n",
       "  <thead>\n",
       "    <tr style=\"text-align: right;\">\n",
       "      <th></th>\n",
       "      <th>R&amp;D Spend</th>\n",
       "      <th>Administration</th>\n",
       "      <th>Marketing Spend</th>\n",
       "      <th>State</th>\n",
       "      <th>Profit</th>\n",
       "    </tr>\n",
       "  </thead>\n",
       "  <tbody>\n",
       "    <tr>\n",
       "      <th>0</th>\n",
       "      <td>165349.20</td>\n",
       "      <td>136897.80</td>\n",
       "      <td>471784.10</td>\n",
       "      <td>New York</td>\n",
       "      <td>192261.83</td>\n",
       "    </tr>\n",
       "    <tr>\n",
       "      <th>1</th>\n",
       "      <td>162597.70</td>\n",
       "      <td>151377.59</td>\n",
       "      <td>443898.53</td>\n",
       "      <td>California</td>\n",
       "      <td>191792.06</td>\n",
       "    </tr>\n",
       "    <tr>\n",
       "      <th>2</th>\n",
       "      <td>153441.51</td>\n",
       "      <td>101145.55</td>\n",
       "      <td>407934.54</td>\n",
       "      <td>Florida</td>\n",
       "      <td>191050.39</td>\n",
       "    </tr>\n",
       "    <tr>\n",
       "      <th>3</th>\n",
       "      <td>144372.41</td>\n",
       "      <td>118671.85</td>\n",
       "      <td>383199.62</td>\n",
       "      <td>New York</td>\n",
       "      <td>182901.99</td>\n",
       "    </tr>\n",
       "    <tr>\n",
       "      <th>4</th>\n",
       "      <td>142107.34</td>\n",
       "      <td>91391.77</td>\n",
       "      <td>366168.42</td>\n",
       "      <td>Florida</td>\n",
       "      <td>166187.94</td>\n",
       "    </tr>\n",
       "  </tbody>\n",
       "</table>\n",
       "</div>"
      ],
      "text/plain": [
       "   R&D Spend  Administration  Marketing Spend       State     Profit\n",
       "0  165349.20       136897.80        471784.10    New York  192261.83\n",
       "1  162597.70       151377.59        443898.53  California  191792.06\n",
       "2  153441.51       101145.55        407934.54     Florida  191050.39\n",
       "3  144372.41       118671.85        383199.62    New York  182901.99\n",
       "4  142107.34        91391.77        366168.42     Florida  166187.94"
      ]
     },
     "execution_count": 3,
     "metadata": {},
     "output_type": "execute_result"
    }
   ],
   "source": [
    "# Check the top 5 rows.\n",
    "df.head(5)"
   ]
  },
  {
   "cell_type": "code",
   "execution_count": 53,
   "metadata": {},
   "outputs": [
    {
     "data": {
      "text/html": [
       "<div>\n",
       "<style scoped>\n",
       "    .dataframe tbody tr th:only-of-type {\n",
       "        vertical-align: middle;\n",
       "    }\n",
       "\n",
       "    .dataframe tbody tr th {\n",
       "        vertical-align: top;\n",
       "    }\n",
       "\n",
       "    .dataframe thead th {\n",
       "        text-align: right;\n",
       "    }\n",
       "</style>\n",
       "<table border=\"1\" class=\"dataframe\">\n",
       "  <thead>\n",
       "    <tr style=\"text-align: right;\">\n",
       "      <th></th>\n",
       "      <th>R&amp;D Spend</th>\n",
       "      <th>Administration</th>\n",
       "      <th>Marketing Spend</th>\n",
       "      <th>State</th>\n",
       "      <th>Profit</th>\n",
       "    </tr>\n",
       "  </thead>\n",
       "  <tbody>\n",
       "    <tr>\n",
       "      <th>995</th>\n",
       "      <td>54135.00</td>\n",
       "      <td>118451.999</td>\n",
       "      <td>173232.6695</td>\n",
       "      <td>California</td>\n",
       "      <td>95279.96251</td>\n",
       "    </tr>\n",
       "    <tr>\n",
       "      <th>996</th>\n",
       "      <td>134970.00</td>\n",
       "      <td>130390.080</td>\n",
       "      <td>329204.0228</td>\n",
       "      <td>California</td>\n",
       "      <td>164336.60550</td>\n",
       "    </tr>\n",
       "    <tr>\n",
       "      <th>997</th>\n",
       "      <td>100275.47</td>\n",
       "      <td>241926.310</td>\n",
       "      <td>227142.8200</td>\n",
       "      <td>California</td>\n",
       "      <td>413956.48000</td>\n",
       "    </tr>\n",
       "    <tr>\n",
       "      <th>998</th>\n",
       "      <td>128456.23</td>\n",
       "      <td>321652.140</td>\n",
       "      <td>281692.3200</td>\n",
       "      <td>California</td>\n",
       "      <td>333962.19000</td>\n",
       "    </tr>\n",
       "    <tr>\n",
       "      <th>999</th>\n",
       "      <td>161181.72</td>\n",
       "      <td>270939.860</td>\n",
       "      <td>295442.1700</td>\n",
       "      <td>New York</td>\n",
       "      <td>476485.43000</td>\n",
       "    </tr>\n",
       "  </tbody>\n",
       "</table>\n",
       "</div>"
      ],
      "text/plain": [
       "     R&D Spend  Administration  Marketing Spend       State        Profit\n",
       "995   54135.00      118451.999      173232.6695  California   95279.96251\n",
       "996  134970.00      130390.080      329204.0228  California  164336.60550\n",
       "997  100275.47      241926.310      227142.8200  California  413956.48000\n",
       "998  128456.23      321652.140      281692.3200  California  333962.19000\n",
       "999  161181.72      270939.860      295442.1700    New York  476485.43000"
      ]
     },
     "execution_count": 53,
     "metadata": {},
     "output_type": "execute_result"
    }
   ],
   "source": [
    "# Check the bottom 5 rows.\n",
    "df.tail(5)"
   ]
  },
  {
   "cell_type": "code",
   "execution_count": 4,
   "metadata": {},
   "outputs": [
    {
     "name": "stdout",
     "output_type": "stream",
     "text": [
      "(1000, 5)\n"
     ]
    }
   ],
   "source": [
    "# Print the shape\n",
    "print(df.shape)"
   ]
  },
  {
   "cell_type": "markdown",
   "metadata": {},
   "source": [
    "##### Number of elements (data values) in each feature"
   ]
  },
  {
   "cell_type": "code",
   "execution_count": 5,
   "metadata": {},
   "outputs": [
    {
     "name": "stdout",
     "output_type": "stream",
     "text": [
      "<class 'pandas.core.frame.DataFrame'>\n",
      "RangeIndex: 1000 entries, 0 to 999\n",
      "Data columns (total 5 columns):\n",
      " #   Column           Non-Null Count  Dtype  \n",
      "---  ------           --------------  -----  \n",
      " 0   R&D Spend        997 non-null    float64\n",
      " 1   Administration   997 non-null    float64\n",
      " 2   Marketing Spend  997 non-null    float64\n",
      " 3   State            1000 non-null   object \n",
      " 4   Profit           997 non-null    float64\n",
      "dtypes: float64(4), object(1)\n",
      "memory usage: 39.2+ KB\n"
     ]
    }
   ],
   "source": [
    "# Data info\n",
    "df.info()"
   ]
  },
  {
   "cell_type": "markdown",
   "metadata": {},
   "source": [
    "##### Investigate string values in the numerical columns and replace it with zeros"
   ]
  },
  {
   "cell_type": "code",
   "execution_count": 58,
   "metadata": {},
   "outputs": [],
   "source": [
    "# isnull() method cannot find string values.\n",
    "#Check the csv file for any string values other than NaN or NA"
   ]
  },
  {
   "cell_type": "markdown",
   "metadata": {},
   "source": [
    "##### Investigate null data values in the dataset and replace it with zeros"
   ]
  },
  {
   "cell_type": "code",
   "execution_count": 6,
   "metadata": {
    "scrolled": true
   },
   "outputs": [
    {
     "data": {
      "text/plain": [
       "R&D Spend          3\n",
       "Administration     3\n",
       "Marketing Spend    3\n",
       "State              0\n",
       "Profit             3\n",
       "dtype: int64"
      ]
     },
     "execution_count": 6,
     "metadata": {},
     "output_type": "execute_result"
    }
   ],
   "source": [
    "# Null values = missing values or invalid values like Not a Number (NaN).\n",
    "df.isnull().sum()"
   ]
  },
  {
   "cell_type": "code",
   "execution_count": 7,
   "metadata": {
    "scrolled": true
   },
   "outputs": [],
   "source": [
    "# If there's Null value in any column, replace it with zeros.\n",
    "df = df.fillna(0)"
   ]
  },
  {
   "cell_type": "code",
   "execution_count": 6,
   "metadata": {},
   "outputs": [
    {
     "data": {
      "text/plain": [
       "R&D Spend          0\n",
       "Administration     0\n",
       "Marketing Spend    0\n",
       "State              0\n",
       "Profit             0\n",
       "dtype: int64"
      ]
     },
     "execution_count": 6,
     "metadata": {},
     "output_type": "execute_result"
    }
   ],
   "source": [
    "# Check weather Null values have been replaced with zeroes.\n",
    "df.isnull().sum()"
   ]
  },
  {
   "cell_type": "markdown",
   "metadata": {},
   "source": [
    "##### Investigate zeroes in the dataset ane replace it with mean, mode or median"
   ]
  },
  {
   "cell_type": "code",
   "execution_count": 8,
   "metadata": {},
   "outputs": [
    {
     "name": "stdout",
     "output_type": "stream",
     "text": [
      "Count of zeros in column  R&D Spend  is :  5\n",
      "Count of zeros in column  Administration  is :  3\n",
      "Count of zeros in column  Marketing Spend  is :  6\n",
      "Count of zeros in column  State  is :  0\n",
      "Count of zeros in column  Profit  is :  3\n"
     ]
    }
   ],
   "source": [
    "# Investigate whether zeroes in the dataset could skew modelling. \n",
    "# Zeroes in the column can be replaced by mean, rolling mean, mode, median of\n",
    "# the respective column.\n",
    "\n",
    "# Count number of zeros in all columns of Dataframe\n",
    "for column_name in df.columns:\n",
    "    column = df[column_name]\n",
    "    # Get the count of Zeros in column \n",
    "    count = (column == 0).sum()\n",
    "    print('Count of zeros in column ', column_name, ' is : ', count)"
   ]
  },
  {
   "cell_type": "code",
   "execution_count": 9,
   "metadata": {},
   "outputs": [
    {
     "data": {
      "text/html": [
       "<div>\n",
       "<style scoped>\n",
       "    .dataframe tbody tr th:only-of-type {\n",
       "        vertical-align: middle;\n",
       "    }\n",
       "\n",
       "    .dataframe tbody tr th {\n",
       "        vertical-align: top;\n",
       "    }\n",
       "\n",
       "    .dataframe thead th {\n",
       "        text-align: right;\n",
       "    }\n",
       "</style>\n",
       "<table border=\"1\" class=\"dataframe\">\n",
       "  <thead>\n",
       "    <tr style=\"text-align: right;\">\n",
       "      <th></th>\n",
       "      <th>R&amp;D Spend</th>\n",
       "      <th>Administration</th>\n",
       "      <th>Marketing Spend</th>\n",
       "      <th>State</th>\n",
       "      <th>Profit</th>\n",
       "    </tr>\n",
       "  </thead>\n",
       "  <tbody>\n",
       "  </tbody>\n",
       "</table>\n",
       "</div>"
      ],
      "text/plain": [
       "Empty DataFrame\n",
       "Columns: [R&D Spend, Administration, Marketing Spend, State, Profit]\n",
       "Index: []"
      ]
     },
     "execution_count": 9,
     "metadata": {},
     "output_type": "execute_result"
    }
   ],
   "source": [
    "# Individually investigate these rows with null values to decide whether to\n",
    "# to keep it or edit it.\n",
    "# Shows all rows with NaN in 'R&D Spend'\n",
    "df[df['R&D Spend'].isnull()] "
   ]
  },
  {
   "cell_type": "code",
   "execution_count": 8,
   "metadata": {},
   "outputs": [],
   "source": [
    "# Replace each zeroes in columns with the mean value of the respectiv column\n",
    "df=df.mask(df==0).fillna(df.mean())"
   ]
  },
  {
   "cell_type": "code",
   "execution_count": 10,
   "metadata": {},
   "outputs": [
    {
     "name": "stdout",
     "output_type": "stream",
     "text": [
      "Count of zeros in column  R&D Spend  is :  5\n",
      "Count of zeros in column  Administration  is :  3\n",
      "Count of zeros in column  Marketing Spend  is :  6\n",
      "Count of zeros in column  State  is :  0\n",
      "Count of zeros in column  Profit  is :  3\n"
     ]
    }
   ],
   "source": [
    "# Check weather the zeroes in the columns have been replaced?\n",
    "\n",
    "# Count number of zeros in all columns of Dataframe\n",
    "for column_name in df.columns:\n",
    "    column = df[column_name]\n",
    "    # Get the count of Zeros in column \n",
    "    count = (column == 0).sum()\n",
    "    print('Count of zeros in column ', column_name, ' is : ', count)"
   ]
  },
  {
   "cell_type": "markdown",
   "metadata": {},
   "source": [
    "##### Investigate unique values in the dataset"
   ]
  },
  {
   "cell_type": "code",
   "execution_count": 11,
   "metadata": {},
   "outputs": [
    {
     "name": "stdout",
     "output_type": "stream",
     "text": [
      "The number of unique values for features R&D Spend :994\n",
      "The number of unique values for features Administration :996\n",
      "The number of unique values for features Marketing Spend :993\n",
      "The number of unique values for features State :3 -- ['California' 'Florida' 'New York']\n",
      "The number of unique values for features Profit :996\n"
     ]
    }
   ],
   "source": [
    "# Query goes through all values in each column, then counts them and then\n",
    "# lists them.\n",
    "\n",
    "for column in df:\n",
    "    unique_values = np.unique(df[column])\n",
    "    count_unique_values = len(unique_values)\n",
    "    if count_unique_values < 10:\n",
    "        print('The number of unique values for features {} :{} -- {}'.format(column, count_unique_values, unique_values))\n",
    "    else:\n",
    "        print('The number of unique values for features {} :{}'.format(column, count_unique_values))"
   ]
  },
  {
   "cell_type": "markdown",
   "metadata": {},
   "source": [
    "##### Investigate distribution and relationships"
   ]
  },
  {
   "cell_type": "code",
   "execution_count": 12,
   "metadata": {},
   "outputs": [
    {
     "data": {
      "text/plain": [
       "<seaborn.axisgrid.PairGrid at 0x15f59f69250>"
      ]
     },
     "execution_count": 12,
     "metadata": {},
     "output_type": "execute_result"
    },
    {
     "data": {
      "image/png": "[encoded data removed]",
      "text/plain": [
       "<Figure size 720x720 with 20 Axes>"
      ]
     },
     "metadata": {
      "needs_background": "light"
     },
     "output_type": "display_data"
    }
   ],
   "source": [
    "# Visualize the ALL relationships between datasets passing the whole DataFrame.\n",
    "# Note: For big data sets, filter the column first.\n",
    "sns.pairplot(df)"
   ]
  },
  {
   "cell_type": "code",
   "execution_count": 13,
   "metadata": {},
   "outputs": [
    {
     "data": {
      "text/plain": [
       "<seaborn.axisgrid.PairGrid at 0x15f606f3be0>"
      ]
     },
     "execution_count": 13,
     "metadata": {},
     "output_type": "execute_result"
    },
    {
     "data": {
      "image/png": "[encoded data removed]",
      "text/plain": [
       "<Figure size 360x360 with 6 Axes>"
      ]
     },
     "metadata": {
      "needs_background": "light"
     },
     "output_type": "display_data"
    }
   ],
   "source": [
    "# Closely visualize the relationship between the Feature (R&D Spend) and\n",
    "# Response (Profit)\n",
    "sns.pairplot(df[['R&D Spend', 'Profit']])"
   ]
  },
  {
   "cell_type": "code",
   "execution_count": 16,
   "metadata": {
    "scrolled": true
   },
   "outputs": [
    {
     "data": {
      "text/plain": [
       "<AxesSubplot:ylabel='Frequency'>"
      ]
     },
     "execution_count": 16,
     "metadata": {},
     "output_type": "execute_result"
    },
    {
     "data": {
      "image/png": "[encoded data removed]",
      "text/plain": [
       "<Figure size 720x360 with 1 Axes>"
      ]
     },
     "metadata": {
      "needs_background": "light"
     },
     "output_type": "display_data"
    }
   ],
   "source": [
    "# Visualize histogram plot for the Feature (X)\n",
    "plt.figure(figsize = (10, 5))\n",
    "df['R&D Spend'].plot(kind='hist')"
   ]
  },
  {
   "cell_type": "code",
   "execution_count": 17,
   "metadata": {
    "scrolled": true
   },
   "outputs": [
    {
     "data": {
      "text/plain": [
       "<AxesSubplot:ylabel='Frequency'>"
      ]
     },
     "execution_count": 17,
     "metadata": {},
     "output_type": "execute_result"
    },
    {
     "data": {
      "image/png": "[encoded data removed]",
      "text/plain": [
       "<Figure size 720x360 with 1 Axes>"
      ]
     },
     "metadata": {
      "needs_background": "light"
     },
     "output_type": "display_data"
    }
   ],
   "source": [
    "# Visualize histogram for the Resposne (y)\n",
    "plt.figure(figsize = (10, 5))\n",
    "df['Profit'].plot(kind='hist')"
   ]
  },
  {
   "cell_type": "markdown",
   "metadata": {},
   "source": [
    "#### b) Data Cleaning"
   ]
  },
  {
   "cell_type": "code",
   "execution_count": 28,
   "metadata": {},
   "outputs": [
    {
     "data": {
      "text/html": [
       "<div>\n",
       "<style scoped>\n",
       "    .dataframe tbody tr th:only-of-type {\n",
       "        vertical-align: middle;\n",
       "    }\n",
       "\n",
       "    .dataframe tbody tr th {\n",
       "        vertical-align: top;\n",
       "    }\n",
       "\n",
       "    .dataframe thead th {\n",
       "        text-align: right;\n",
       "    }\n",
       "</style>\n",
       "<table border=\"1\" class=\"dataframe\">\n",
       "  <thead>\n",
       "    <tr style=\"text-align: right;\">\n",
       "      <th></th>\n",
       "      <th>R&amp;D Spend</th>\n",
       "      <th>Administration</th>\n",
       "      <th>Marketing Spend</th>\n",
       "      <th>State</th>\n",
       "      <th>Profit</th>\n",
       "    </tr>\n",
       "  </thead>\n",
       "  <tbody>\n",
       "    <tr>\n",
       "      <th>0</th>\n",
       "      <td>165349.20</td>\n",
       "      <td>136897.800</td>\n",
       "      <td>471784.1000</td>\n",
       "      <td>New York</td>\n",
       "      <td>192261.83000</td>\n",
       "    </tr>\n",
       "    <tr>\n",
       "      <th>1</th>\n",
       "      <td>162597.70</td>\n",
       "      <td>151377.590</td>\n",
       "      <td>443898.5300</td>\n",
       "      <td>California</td>\n",
       "      <td>191792.06000</td>\n",
       "    </tr>\n",
       "    <tr>\n",
       "      <th>2</th>\n",
       "      <td>153441.51</td>\n",
       "      <td>101145.550</td>\n",
       "      <td>407934.5400</td>\n",
       "      <td>Florida</td>\n",
       "      <td>191050.39000</td>\n",
       "    </tr>\n",
       "    <tr>\n",
       "      <th>3</th>\n",
       "      <td>144372.41</td>\n",
       "      <td>118671.850</td>\n",
       "      <td>383199.6200</td>\n",
       "      <td>New York</td>\n",
       "      <td>182901.99000</td>\n",
       "    </tr>\n",
       "    <tr>\n",
       "      <th>4</th>\n",
       "      <td>142107.34</td>\n",
       "      <td>91391.770</td>\n",
       "      <td>366168.4200</td>\n",
       "      <td>Florida</td>\n",
       "      <td>166187.94000</td>\n",
       "    </tr>\n",
       "    <tr>\n",
       "      <th>...</th>\n",
       "      <td>...</td>\n",
       "      <td>...</td>\n",
       "      <td>...</td>\n",
       "      <td>...</td>\n",
       "      <td>...</td>\n",
       "    </tr>\n",
       "    <tr>\n",
       "      <th>995</th>\n",
       "      <td>54135.00</td>\n",
       "      <td>118451.999</td>\n",
       "      <td>173232.6695</td>\n",
       "      <td>California</td>\n",
       "      <td>95279.96251</td>\n",
       "    </tr>\n",
       "    <tr>\n",
       "      <th>996</th>\n",
       "      <td>134970.00</td>\n",
       "      <td>130390.080</td>\n",
       "      <td>329204.0228</td>\n",
       "      <td>California</td>\n",
       "      <td>164336.60550</td>\n",
       "    </tr>\n",
       "    <tr>\n",
       "      <th>997</th>\n",
       "      <td>100275.47</td>\n",
       "      <td>241926.310</td>\n",
       "      <td>227142.8200</td>\n",
       "      <td>California</td>\n",
       "      <td>413956.48000</td>\n",
       "    </tr>\n",
       "    <tr>\n",
       "      <th>998</th>\n",
       "      <td>128456.23</td>\n",
       "      <td>321652.140</td>\n",
       "      <td>281692.3200</td>\n",
       "      <td>California</td>\n",
       "      <td>333962.19000</td>\n",
       "    </tr>\n",
       "    <tr>\n",
       "      <th>999</th>\n",
       "      <td>161181.72</td>\n",
       "      <td>270939.860</td>\n",
       "      <td>295442.1700</td>\n",
       "      <td>New York</td>\n",
       "      <td>476485.43000</td>\n",
       "    </tr>\n",
       "  </tbody>\n",
       "</table>\n",
       "<p>1000 rows × 5 columns</p>\n",
       "</div>"
      ],
      "text/plain": [
       "     R&D Spend  Administration  Marketing Spend       State        Profit\n",
       "0    165349.20      136897.800      471784.1000    New York  192261.83000\n",
       "1    162597.70      151377.590      443898.5300  California  191792.06000\n",
       "2    153441.51      101145.550      407934.5400     Florida  191050.39000\n",
       "3    144372.41      118671.850      383199.6200    New York  182901.99000\n",
       "4    142107.34       91391.770      366168.4200     Florida  166187.94000\n",
       "..         ...             ...              ...         ...           ...\n",
       "995   54135.00      118451.999      173232.6695  California   95279.96251\n",
       "996  134970.00      130390.080      329204.0228  California  164336.60550\n",
       "997  100275.47      241926.310      227142.8200  California  413956.48000\n",
       "998  128456.23      321652.140      281692.3200  California  333962.19000\n",
       "999  161181.72      270939.860      295442.1700    New York  476485.43000\n",
       "\n",
       "[1000 rows x 5 columns]"
      ]
     },
     "execution_count": 28,
     "metadata": {},
     "output_type": "execute_result"
    }
   ],
   "source": [
    "df"
   ]
  },
  {
   "cell_type": "code",
   "execution_count": 31,
   "metadata": {},
   "outputs": [
    {
     "data": {
      "text/html": [
       "<div>\n",
       "<style scoped>\n",
       "    .dataframe tbody tr th:only-of-type {\n",
       "        vertical-align: middle;\n",
       "    }\n",
       "\n",
       "    .dataframe tbody tr th {\n",
       "        vertical-align: top;\n",
       "    }\n",
       "\n",
       "    .dataframe thead th {\n",
       "        text-align: right;\n",
       "    }\n",
       "</style>\n",
       "<table border=\"1\" class=\"dataframe\">\n",
       "  <thead>\n",
       "    <tr style=\"text-align: right;\">\n",
       "      <th></th>\n",
       "      <th>R&amp;D Spend</th>\n",
       "      <th>Administration</th>\n",
       "      <th>Marketing Spend</th>\n",
       "      <th>State</th>\n",
       "      <th>Profit</th>\n",
       "    </tr>\n",
       "  </thead>\n",
       "  <tbody>\n",
       "    <tr>\n",
       "      <th>3</th>\n",
       "      <td>144372.41</td>\n",
       "      <td>118671.8500</td>\n",
       "      <td>383199.6200</td>\n",
       "      <td>New York</td>\n",
       "      <td>182901.99000</td>\n",
       "    </tr>\n",
       "    <tr>\n",
       "      <th>4</th>\n",
       "      <td>142107.34</td>\n",
       "      <td>91391.7700</td>\n",
       "      <td>366168.4200</td>\n",
       "      <td>Florida</td>\n",
       "      <td>166187.94000</td>\n",
       "    </tr>\n",
       "    <tr>\n",
       "      <th>5</th>\n",
       "      <td>131876.90</td>\n",
       "      <td>99814.7100</td>\n",
       "      <td>362861.3600</td>\n",
       "      <td>New York</td>\n",
       "      <td>156991.12000</td>\n",
       "    </tr>\n",
       "    <tr>\n",
       "      <th>6</th>\n",
       "      <td>134615.46</td>\n",
       "      <td>147198.8700</td>\n",
       "      <td>127716.8200</td>\n",
       "      <td>California</td>\n",
       "      <td>156122.51000</td>\n",
       "    </tr>\n",
       "    <tr>\n",
       "      <th>7</th>\n",
       "      <td>130298.13</td>\n",
       "      <td>145530.0600</td>\n",
       "      <td>323876.6800</td>\n",
       "      <td>Florida</td>\n",
       "      <td>155752.60000</td>\n",
       "    </tr>\n",
       "    <tr>\n",
       "      <th>...</th>\n",
       "      <td>...</td>\n",
       "      <td>...</td>\n",
       "      <td>...</td>\n",
       "      <td>...</td>\n",
       "      <td>...</td>\n",
       "    </tr>\n",
       "    <tr>\n",
       "      <th>992</th>\n",
       "      <td>105127.00</td>\n",
       "      <td>125982.7298</td>\n",
       "      <td>271621.8728</td>\n",
       "      <td>Florida</td>\n",
       "      <td>138841.98810</td>\n",
       "    </tr>\n",
       "    <tr>\n",
       "      <th>993</th>\n",
       "      <td>46798.00</td>\n",
       "      <td>117368.4374</td>\n",
       "      <td>159075.9080</td>\n",
       "      <td>California</td>\n",
       "      <td>89012.02672</td>\n",
       "    </tr>\n",
       "    <tr>\n",
       "      <th>994</th>\n",
       "      <td>97209.00</td>\n",
       "      <td>124813.3635</td>\n",
       "      <td>256344.0701</td>\n",
       "      <td>New York</td>\n",
       "      <td>132077.70900</td>\n",
       "    </tr>\n",
       "    <tr>\n",
       "      <th>995</th>\n",
       "      <td>54135.00</td>\n",
       "      <td>118451.9990</td>\n",
       "      <td>173232.6695</td>\n",
       "      <td>California</td>\n",
       "      <td>95279.96251</td>\n",
       "    </tr>\n",
       "    <tr>\n",
       "      <th>996</th>\n",
       "      <td>134970.00</td>\n",
       "      <td>130390.0800</td>\n",
       "      <td>329204.0228</td>\n",
       "      <td>California</td>\n",
       "      <td>164336.60550</td>\n",
       "    </tr>\n",
       "  </tbody>\n",
       "</table>\n",
       "<p>980 rows × 5 columns</p>\n",
       "</div>"
      ],
      "text/plain": [
       "     R&D Spend  Administration  Marketing Spend       State        Profit\n",
       "3    144372.41     118671.8500      383199.6200    New York  182901.99000\n",
       "4    142107.34      91391.7700      366168.4200     Florida  166187.94000\n",
       "5    131876.90      99814.7100      362861.3600    New York  156991.12000\n",
       "6    134615.46     147198.8700      127716.8200  California  156122.51000\n",
       "7    130298.13     145530.0600      323876.6800     Florida  155752.60000\n",
       "..         ...             ...              ...         ...           ...\n",
       "992  105127.00     125982.7298      271621.8728     Florida  138841.98810\n",
       "993   46798.00     117368.4374      159075.9080  California   89012.02672\n",
       "994   97209.00     124813.3635      256344.0701    New York  132077.70900\n",
       "995   54135.00     118451.9990      173232.6695  California   95279.96251\n",
       "996  134970.00     130390.0800      329204.0228  California  164336.60550\n",
       "\n",
       "[980 rows x 5 columns]"
      ]
     },
     "execution_count": 31,
     "metadata": {},
     "output_type": "execute_result"
    }
   ],
   "source": [
    "# Clean outliers from dataset based on the Response variable (y) = 'Profit'\n",
    "\n",
    "# Outliers on the lower side of the 'Profit'\n",
    "q_low = df['Profit'].quantile(0.01)\n",
    "\n",
    "# Outliers on the higher side of the 'Profit'\n",
    "q_hi  = df['Profit'].quantile(0.99)\n",
    "\n",
    "# Filter the outliers from the 'Profit'\n",
    "df_filtered = df[(df['Profit'] < q_hi) & (df['Profit'] > q_low)]\n",
    "\n",
    "df_filtered"
   ]
  },
  {
   "cell_type": "markdown",
   "metadata": {},
   "source": [
    "#### c) Data Aggregation"
   ]
  },
  {
   "cell_type": "markdown",
   "metadata": {},
   "source": [
    "#### d) Data Join / Merge"
   ]
  },
  {
   "cell_type": "markdown",
   "metadata": {},
   "source": [
    "#### e) Data Scaling - Normalization / Standardization"
   ]
  },
  {
   "cell_type": "markdown",
   "metadata": {},
   "source": [
    "#### f) Data Conversion - Numerical / Categorical"
   ]
  },
  {
   "cell_type": "markdown",
   "metadata": {},
   "source": [
    "#### g) Feature Selection - Correlation / Importance"
   ]
  },
  {
   "cell_type": "code",
   "execution_count": 40,
   "metadata": {},
   "outputs": [
    {
     "data": {
      "text/html": [
       "<div>\n",
       "<style scoped>\n",
       "    .dataframe tbody tr th:only-of-type {\n",
       "        vertical-align: middle;\n",
       "    }\n",
       "\n",
       "    .dataframe tbody tr th {\n",
       "        vertical-align: top;\n",
       "    }\n",
       "\n",
       "    .dataframe thead th {\n",
       "        text-align: right;\n",
       "    }\n",
       "</style>\n",
       "<table border=\"1\" class=\"dataframe\">\n",
       "  <thead>\n",
       "    <tr style=\"text-align: right;\">\n",
       "      <th></th>\n",
       "      <th>R&amp;D Spend</th>\n",
       "      <th>Profit</th>\n",
       "    </tr>\n",
       "  </thead>\n",
       "  <tbody>\n",
       "    <tr>\n",
       "      <th>R&amp;D Spend</th>\n",
       "      <td>1.000000</td>\n",
       "      <td>0.936576</td>\n",
       "    </tr>\n",
       "    <tr>\n",
       "      <th>Profit</th>\n",
       "      <td>0.936576</td>\n",
       "      <td>1.000000</td>\n",
       "    </tr>\n",
       "  </tbody>\n",
       "</table>\n",
       "</div>"
      ],
      "text/plain": [
       "           R&D Spend    Profit\n",
       "R&D Spend   1.000000  0.936576\n",
       "Profit      0.936576  1.000000"
      ]
     },
     "execution_count": 40,
     "metadata": {},
     "output_type": "execute_result"
    }
   ],
   "source": [
    "# Investigate correlation between the Feature (X) and Response variable (y).\n",
    "cor = df[['R&D Spend', 'Profit']].corr()\n",
    "cor"
   ]
  },
  {
   "cell_type": "code",
   "execution_count": 41,
   "metadata": {},
   "outputs": [
    {
     "data": {
      "image/png": "[encoded data removed]",
      "text/plain": [
       "<Figure size 432x288 with 2 Axes>"
      ]
     },
     "metadata": {
      "needs_background": "light"
     },
     "output_type": "display_data"
    }
   ],
   "source": [
    "# Investigate correlation in heatmap\n",
    "hm_cor = sns.heatmap(cor, annot = True, annot_kws = {'size' : 20})"
   ]
  },
  {
   "cell_type": "code",
   "execution_count": 37,
   "metadata": {},
   "outputs": [
    {
     "data": {
      "text/plain": [
       "(980, 1)"
      ]
     },
     "execution_count": 37,
     "metadata": {},
     "output_type": "execute_result"
    }
   ],
   "source": [
    "# Select Response variable 'Profit' (y)\n",
    "y_select = df_filtered.drop(['R&D Spend', 'Administration', 'Marketing Spend', 'State'], axis = 1)\n",
    "y = y_select.values\n",
    "y.shape"
   ]
  },
  {
   "cell_type": "code",
   "execution_count": 39,
   "metadata": {},
   "outputs": [
    {
     "data": {
      "text/plain": [
       "(980, 1)"
      ]
     },
     "execution_count": 39,
     "metadata": {},
     "output_type": "execute_result"
    }
   ],
   "source": [
    "# Select Feature variable 'Profit' (X)\n",
    "X_select = df_filtered.drop(['Administration', 'Marketing Spend', 'State', 'Profit'], axis = 1)\n",
    "X = X_select.values\n",
    "X.shape"
   ]
  },
  {
   "cell_type": "markdown",
   "metadata": {},
   "source": [
    "#### h) Feature Engineering"
   ]
  },
  {
   "cell_type": "markdown",
   "metadata": {},
   "source": [
    "### 4. Data Split for Training"
   ]
  },
  {
   "cell_type": "code",
   "execution_count": 46,
   "metadata": {},
   "outputs": [],
   "source": [
    "X_train, X_test, y_train, y_test = train_test_split(X, y, test_size=0.2, random_state = 100)"
   ]
  },
  {
   "cell_type": "code",
   "execution_count": 47,
   "metadata": {},
   "outputs": [
    {
     "name": "stdout",
     "output_type": "stream",
     "text": [
      "(784, 1)\n",
      "(196, 1)\n",
      "(784, 1)\n",
      "(196, 1)\n"
     ]
    }
   ],
   "source": [
    "# Train and test data shape\n",
    "print(X_train.shape) # 80% data\n",
    "print(X_test.shape)  # 20% data\n",
    "print(y_train.shape) # 80% data\n",
    "print(y_test.shape)  # 20% data"
   ]
  },
  {
   "cell_type": "markdown",
   "metadata": {},
   "source": [
    "### 5. Modelling Data - Build Data Model"
   ]
  },
  {
   "cell_type": "code",
   "execution_count": 48,
   "metadata": {},
   "outputs": [],
   "source": [
    "# Initialize an instance of Linear Regression model.\n",
    "lm = LinearRegression(fit_intercept = True)  "
   ]
  },
  {
   "cell_type": "code",
   "execution_count": 49,
   "metadata": {},
   "outputs": [],
   "source": [
    "# Fit the linear regression model to the data. Use 'X' and then 'y'.\n",
    "model = lm.fit(X_train, y_train)"
   ]
  },
  {
   "cell_type": "code",
   "execution_count": 50,
   "metadata": {},
   "outputs": [
    {
     "data": {
      "text/plain": [
       "array([[0.84797075]])"
      ]
     },
     "execution_count": 50,
     "metadata": {},
     "output_type": "execute_result"
    }
   ],
   "source": [
    "# model coeffiencint\n",
    "model.coef_"
   ]
  },
  {
   "cell_type": "code",
   "execution_count": 51,
   "metadata": {},
   "outputs": [
    {
     "data": {
      "text/plain": [
       "array([49592.7043883])"
      ]
     },
     "execution_count": 51,
     "metadata": {},
     "output_type": "execute_result"
    }
   ],
   "source": [
    "# model intercept\n",
    "model.intercept_"
   ]
  },
  {
   "cell_type": "code",
   "execution_count": 52,
   "metadata": {},
   "outputs": [],
   "source": [
    "# Ask the model to predict.\n",
    "# Pass the testing data which has the input values.\n",
    "y_predictions_test = model.predict(X_test)\n",
    "y_predictions_train = model.predict(X_train)"
   ]
  },
  {
   "cell_type": "code",
   "execution_count": 53,
   "metadata": {},
   "outputs": [
    {
     "data": {
      "text/plain": [
       "array([[ 57492.39988979],\n",
       "       [143277.36075368],\n",
       "       [ 96824.67513035],\n",
       "       [146037.50554301],\n",
       "       [ 66179.86021748],\n",
       "       [181603.94268544],\n",
       "       [175021.14575778],\n",
       "       [145525.33121036],\n",
       "       [ 88749.44968373],\n",
       "       [ 64265.14226531]])"
      ]
     },
     "execution_count": 53,
     "metadata": {},
     "output_type": "execute_result"
    }
   ],
   "source": [
    "# Show test predictions\n",
    "y_predictions_test [0:10]"
   ]
  },
  {
   "cell_type": "code",
   "execution_count": 54,
   "metadata": {},
   "outputs": [
    {
     "data": {
      "text/plain": [
       "array([[138910.31139423],\n",
       "       [101838.7261716 ],\n",
       "       [ 98999.72010258],\n",
       "       [117893.35637014],\n",
       "       [ 90803.2348388 ],\n",
       "       [127599.56027646],\n",
       "       [ 95284.76024942],\n",
       "       [152315.03300088],\n",
       "       [ 99465.256044  ],\n",
       "       [154348.46685796]])"
      ]
     },
     "execution_count": 54,
     "metadata": {},
     "output_type": "execute_result"
    }
   ],
   "source": [
    "# Show train predictions\n",
    "y_predictions_train [0:10]"
   ]
  },
  {
   "cell_type": "code",
   "execution_count": 55,
   "metadata": {},
   "outputs": [
    {
     "name": "stdout",
     "output_type": "stream",
     "text": [
      "[[ 57492.39988979]\n",
      " [143277.36075368]\n",
      " [ 96824.67513035]\n",
      " [146037.50554301]\n",
      " [ 66179.86021748]\n",
      " [181603.94268544]\n",
      " [175021.14575778]\n",
      " [145525.33121036]\n",
      " [ 88749.44968373]\n",
      " [ 64265.14226531]\n",
      " [179846.09932191]\n",
      " [100090.21048632]\n",
      " [ 77484.15827784]\n",
      " [ 61861.99316149]\n",
      " [ 82470.22628436]\n",
      " [166093.70970801]\n",
      " [122967.6133346 ]\n",
      " [176049.73427681]\n",
      " [152064.8816298 ]\n",
      " [ 78749.33063596]\n",
      " [125660.76843472]\n",
      " [139023.93947465]\n",
      " [117752.59322574]\n",
      " [115955.74320775]\n",
      " [137623.09179663]\n",
      " [133551.13625797]\n",
      " [156253.00916113]\n",
      " [157084.02049555]\n",
      " [162199.82802673]\n",
      " [ 86263.19944646]\n",
      " [134903.64960327]\n",
      " [169240.52915906]\n",
      " [109457.74335503]\n",
      " [ 99611.1070129 ]\n",
      " [111910.07476232]\n",
      " [155561.06502961]\n",
      " [136487.65896317]\n",
      " [170125.81062145]\n",
      " [102902.9294621 ]\n",
      " [ 82543.99973956]\n",
      " [162870.57288951]\n",
      " [151931.75022214]\n",
      " [ 86506.56705154]\n",
      " [151582.38627339]\n",
      " [ 56646.12508188]\n",
      " [164731.02071371]\n",
      " [105645.26686569]\n",
      " [110737.83999834]\n",
      " [110335.39308067]\n",
      " [ 88299.17721579]\n",
      " [118313.1018911 ]\n",
      " [167075.65983583]\n",
      " [181776.92871832]\n",
      " [159174.26839284]\n",
      " [126106.80104891]\n",
      " [123494.20316999]\n",
      " [ 75662.71710811]\n",
      " [ 91885.24551504]\n",
      " [121948.35249381]\n",
      " [ 79030.00895401]\n",
      " [125629.393517  ]\n",
      " [ 94633.51871387]\n",
      " [172141.43709279]\n",
      " [100936.48529423]\n",
      " [168994.61764174]\n",
      " [ 62741.10987653]\n",
      " [109221.15951595]\n",
      " [ 96425.28090737]\n",
      " [ 68578.76946755]\n",
      " [ 95396.69238834]\n",
      " [168731.74670942]\n",
      " [160401.28206723]\n",
      " [102653.62606178]\n",
      " [ 86894.93765477]\n",
      " [112337.92688364]\n",
      " [ 74874.10431116]\n",
      " [144059.18978464]\n",
      " [ 54583.01224857]\n",
      " [106536.48412332]\n",
      " [118736.6066275 ]\n",
      " [ 66250.24178968]\n",
      " [ 58038.49305241]\n",
      " [137924.12141267]\n",
      " [155684.02078827]\n",
      " [147960.70320266]\n",
      " [146760.82459225]\n",
      " [157347.73939861]\n",
      " [ 54727.16727597]\n",
      " [100767.73911509]\n",
      " [120752.71373715]\n",
      " [117697.47512703]\n",
      " [139803.22459336]\n",
      " [120767.97721064]\n",
      " [126380.69560097]\n",
      " [140713.09720747]\n",
      " [176447.43255829]\n",
      " [144657.00916297]\n",
      " [153413.15512136]\n",
      " [101203.59608029]\n",
      " [ 68398.77919629]\n",
      " [161393.40784404]\n",
      " [ 74427.22372622]\n",
      " [ 89818.74079873]\n",
      " [113555.98598692]\n",
      " [106156.59322758]\n",
      " [ 69133.34233767]\n",
      " [121515.03944087]\n",
      " [106208.3194433 ]\n",
      " [ 52230.74138971]\n",
      " [ 62424.19776835]\n",
      " [169340.58970749]\n",
      " [ 69119.77480568]\n",
      " [145818.72908966]\n",
      " [149009.64301968]\n",
      " [ 95753.68807384]\n",
      " [ 92528.85531384]\n",
      " [ 88859.68588115]\n",
      " [166107.27724   ]\n",
      " [141687.41559854]\n",
      " [ 76733.70416461]\n",
      " [122324.85150655]\n",
      " [142628.66313038]\n",
      " [ 76377.55644986]\n",
      " [137574.75746391]\n",
      " [100871.19154652]\n",
      " [141221.03168637]\n",
      " [116335.63410348]\n",
      " [176613.63482517]\n",
      " [164043.31643594]\n",
      " [ 63760.59966942]\n",
      " [159251.43373103]\n",
      " [168476.50751385]\n",
      " [ 64193.91272236]\n",
      " [180368.44930355]\n",
      " [107830.48748692]\n",
      " [153812.54934433]\n",
      " [142359.00843207]\n",
      " [136201.04484987]\n",
      " [104426.48698727]\n",
      " [160739.62239625]\n",
      " [ 71770.53136833]\n",
      " [103561.80273439]\n",
      " [167962.63723971]\n",
      " [112148.3545429 ]\n",
      " [106568.7070118 ]\n",
      " [102439.93743293]\n",
      " [140472.27351464]\n",
      " [ 65694.82094882]\n",
      " [136755.61771998]\n",
      " [ 66100.99893778]\n",
      " [142734.65947406]\n",
      " [105299.29479993]\n",
      " [ 78651.81399978]\n",
      " [ 78015.83593772]\n",
      " [101167.98130881]\n",
      " [ 94522.4345457 ]\n",
      " [173498.19029184]\n",
      " [163237.744224  ]\n",
      " [ 76901.602373  ]\n",
      " [170208.06378414]\n",
      " [ 81183.85465751]\n",
      " [ 98694.45063279]\n",
      " [167091.77128006]\n",
      " [ 85077.73633879]\n",
      " [ 57291.43082218]\n",
      " [ 76329.22211715]\n",
      " [126423.94210919]\n",
      " [150284.99102679]\n",
      " [151972.45281811]\n",
      " [ 68628.79974177]\n",
      " [104057.01765205]\n",
      " [ 87496.1489161 ]\n",
      " [ 70400.21063728]\n",
      " [168543.49720305]\n",
      " [ 67651.93743845]\n",
      " [102139.75578764]\n",
      " [ 86387.00317588]\n",
      " [106306.68405023]\n",
      " [154543.50013032]\n",
      " [ 65909.35754842]\n",
      " [ 94292.63447261]\n",
      " [ 54641.52223028]\n",
      " [ 56134.79871999]\n",
      " [101434.56635301]\n",
      " [181065.48125956]\n",
      " [ 74796.93897297]\n",
      " [ 84604.56866062]\n",
      " [142158.88733521]\n",
      " [ 82279.43286574]\n",
      " [127434.72324249]\n",
      " [180220.0544224 ]\n",
      " [105602.46130226]\n",
      " [105881.00273403]\n",
      " [ 56152.60610573]\n",
      " [ 75636.43001488]\n",
      " [ 94601.2958254 ]]\n"
     ]
    },
    {
     "data": {
      "text/plain": [
       "numpy.ndarray"
      ]
     },
     "execution_count": 55,
     "metadata": {},
     "output_type": "execute_result"
    }
   ],
   "source": [
    "# Show all test predictions\n",
    "print(y_predictions_test)\n",
    "type(y_predictions_test)"
   ]
  },
  {
   "cell_type": "markdown",
   "metadata": {},
   "source": [
    "### 6. Model Evaluation"
   ]
  },
  {
   "cell_type": "code",
   "execution_count": 56,
   "metadata": {},
   "outputs": [
    {
     "name": "stdout",
     "output_type": "stream",
     "text": [
      "The accuracy of the model on training data set is : 0.9940813831781965\n"
     ]
    }
   ],
   "source": [
    "# Coeffiencient of determination R^2 of the prediction from sklearn.\n",
    "# Train data\n",
    "print('The accuracy of the model on training data set is :', r2_score(y_train, y_predictions_train))"
   ]
  },
  {
   "cell_type": "code",
   "execution_count": 57,
   "metadata": {},
   "outputs": [
    {
     "name": "stdout",
     "output_type": "stream",
     "text": [
      "The accuracy of the model on training data set is : 0.9916072012382324\n"
     ]
    }
   ],
   "source": [
    "# Coeffiencient of determination R^2 of the prediction from sklearn.\n",
    "# Test data\n",
    "print('The accuracy of the model on training data set is :', r2_score(y_test, y_predictions_test))"
   ]
  },
  {
   "cell_type": "code",
   "execution_count": null,
   "metadata": {},
   "outputs": [],
   "source": [
    "#The R Square is measure of how close the data are to the fitted regression line.\n",
    "# Our model explains 99% of the training data & 99% of the testing data."
   ]
  },
  {
   "cell_type": "code",
   "execution_count": 58,
   "metadata": {},
   "outputs": [
    {
     "name": "stdout",
     "output_type": "stream",
     "text": [
      "The RMSE on training data set is : 3018.8262858784647\n"
     ]
    }
   ],
   "source": [
    "print('The RMSE on training data set is :' ,np.sqrt(mean_squared_error(y_train, y_predictions_train)))"
   ]
  },
  {
   "cell_type": "code",
   "execution_count": 59,
   "metadata": {},
   "outputs": [
    {
     "name": "stdout",
     "output_type": "stream",
     "text": [
      "The RMSE on testing data set is : 3421.2069685274478\n"
     ]
    }
   ],
   "source": [
    "print('The RMSE on testing data set is :' ,np.sqrt(mean_squared_error(y_test, y_predictions_test)))"
   ]
  },
  {
   "cell_type": "code",
   "execution_count": null,
   "metadata": {},
   "outputs": [],
   "source": [
    "# The RMSE is the standard deviation of the residuals. Residuals is \n",
    "# the difference between the predicted value and the regression line. \n",
    "# Hence RMSE is a measure of how spread your residuals are.\n",
    "\n",
    "# The Root Mean Squared Error measures the average error the model makes\n",
    "# in predicting the outcome. Smaller the value of RMSE, better the model is.\n",
    "# With high numbers, model needs to be improved."
   ]
  },
  {
   "cell_type": "code",
   "execution_count": 60,
   "metadata": {},
   "outputs": [
    {
     "name": "stdout",
     "output_type": "stream",
     "text": [
      "The MAE  on the training dataset is:  693.9539832147706\n",
      "The MAE  on the testing dataset is:  614.1184125424641\n"
     ]
    }
   ],
   "source": [
    "# The mean absolute error (MAE) is the average of all the absolute errors. \n",
    "# The absolute error is the difference between the true value (y_train) \n",
    "# and the predicted value (y_pred).\n",
    "\n",
    "# The Mean Absolute Error (MAE)\n",
    "print('The MAE  on the training dataset is: ',mean_absolute_error(y_train,y_predictions_train))\n",
    "print('The MAE  on the testing dataset is: ',mean_absolute_error(y_test,y_predictions_test))"
   ]
  },
  {
   "cell_type": "code",
   "execution_count": 61,
   "metadata": {
    "scrolled": true
   },
   "outputs": [
    {
     "data": {
      "text/plain": [
       "Text(0.5, 1.0, 'Actual Vs Predicted Values')"
      ]
     },
     "execution_count": 61,
     "metadata": {},
     "output_type": "execute_result"
    },
    {
     "data": {
      "image/png": "[encoded data removed]",
      "text/plain": [
       "<Figure size 1080x720 with 1 Axes>"
      ]
     },
     "metadata": {
      "needs_background": "light"
     },
     "output_type": "display_data"
    }
   ],
   "source": [
    "# Visualise train and test data using Scatter plot.\n",
    "plt.figure(figsize=(15,10))\n",
    "plt.scatter(y_test, y_predictions_test, c='green')\n",
    "plt.plot([y_test.min(), y_test.max()], [y_test.min(), y_test.max()], 'k--', c='blue', lw=3)\n",
    "plt.xlabel('Actual')\n",
    "plt.ylabel('Predicted')\n",
    "plt.title('Actual Vs Predicted Values')"
   ]
  },
  {
   "cell_type": "code",
   "execution_count": 62,
   "metadata": {
    "scrolled": true
   },
   "outputs": [
    {
     "name": "stderr",
     "output_type": "stream",
     "text": [
      "C:\\Users\\Sagewood\\anaconda3\\lib\\site-packages\\seaborn\\_decorators.py:36: FutureWarning: Pass the following variables as keyword args: x, y. From version 0.12, the only valid positional argument will be `data`, and passing other arguments without an explicit keyword will result in an error or misinterpretation.\n",
      "  warnings.warn(\n"
     ]
    },
    {
     "data": {
      "text/plain": [
       "Text(0.5, 1.0, 'Actuals Vs Residuals')"
      ]
     },
     "execution_count": 62,
     "metadata": {},
     "output_type": "execute_result"
    },
    {
     "data": {
      "image/png": "[encoded data removed]",
      "text/plain": [
       "<Figure size 1080x720 with 1 Axes>"
      ]
     },
     "metadata": {
      "needs_background": "light"
     },
     "output_type": "display_data"
    }
   ],
   "source": [
    "# Plotting Residuals\n",
    "\n",
    "plt.figure(figsize=(15,10))\n",
    "\n",
    "sns.residplot(y_test, y_predictions_test, color='green')\n",
    "plt.xlabel('Actual Profit')\n",
    "plt.ylabel('Residuals')\n",
    "plt.title('Actuals Vs Residuals')"
   ]
  },
  {
   "cell_type": "code",
   "execution_count": 65,
   "metadata": {},
   "outputs": [
    {
     "data": {
      "text/plain": [
       "numpy.ndarray"
      ]
     },
     "execution_count": 65,
     "metadata": {},
     "output_type": "execute_result"
    }
   ],
   "source": [
    "type(X_test) # Is an array. Pass the column name and convert into DataFrame."
   ]
  },
  {
   "cell_type": "code",
   "execution_count": 72,
   "metadata": {},
   "outputs": [],
   "source": [
    "# Create a DataFrame to show actual Vs predicted values of our test data set.\n",
    "avp_df = pd.DataFrame(X_test, columns = ['R&D Spend'])\n",
    "avp_df['Profit Actual'] = y_test\n",
    "avp_df['Profit Predicted'] = y_predictions_test\n",
    "avp_df['Difference'] = y_test - y_predictions_test"
   ]
  },
  {
   "cell_type": "code",
   "execution_count": 73,
   "metadata": {
    "scrolled": true
   },
   "outputs": [
    {
     "data": {
      "text/html": [
       "<div>\n",
       "<style scoped>\n",
       "    .dataframe tbody tr th:only-of-type {\n",
       "        vertical-align: middle;\n",
       "    }\n",
       "\n",
       "    .dataframe tbody tr th {\n",
       "        vertical-align: top;\n",
       "    }\n",
       "\n",
       "    .dataframe thead th {\n",
       "        text-align: right;\n",
       "    }\n",
       "</style>\n",
       "<table border=\"1\" class=\"dataframe\">\n",
       "  <thead>\n",
       "    <tr style=\"text-align: right;\">\n",
       "      <th></th>\n",
       "      <th>R&amp;D Spend</th>\n",
       "      <th>Profit Actual</th>\n",
       "      <th>Profit Predicted</th>\n",
       "      <th>Difference</th>\n",
       "    </tr>\n",
       "  </thead>\n",
       "  <tbody>\n",
       "    <tr>\n",
       "      <th>0</th>\n",
       "      <td>9316.0</td>\n",
       "      <td>56991.47755</td>\n",
       "      <td>57492.399890</td>\n",
       "      <td>-500.922340</td>\n",
       "    </tr>\n",
       "    <tr>\n",
       "      <th>1</th>\n",
       "      <td>110481.0</td>\n",
       "      <td>143415.86410</td>\n",
       "      <td>143277.360754</td>\n",
       "      <td>138.503346</td>\n",
       "    </tr>\n",
       "    <tr>\n",
       "      <th>2</th>\n",
       "      <td>55700.0</td>\n",
       "      <td>96616.92850</td>\n",
       "      <td>96824.675130</td>\n",
       "      <td>-207.746630</td>\n",
       "    </tr>\n",
       "    <tr>\n",
       "      <th>3</th>\n",
       "      <td>113736.0</td>\n",
       "      <td>146196.58250</td>\n",
       "      <td>146037.505543</td>\n",
       "      <td>159.076957</td>\n",
       "    </tr>\n",
       "    <tr>\n",
       "      <th>4</th>\n",
       "      <td>19561.0</td>\n",
       "      <td>65743.69265</td>\n",
       "      <td>66179.860217</td>\n",
       "      <td>-436.167567</td>\n",
       "    </tr>\n",
       "    <tr>\n",
       "      <th>5</th>\n",
       "      <td>155679.0</td>\n",
       "      <td>182028.12550</td>\n",
       "      <td>181603.942685</td>\n",
       "      <td>424.182815</td>\n",
       "    </tr>\n",
       "    <tr>\n",
       "      <th>6</th>\n",
       "      <td>147916.0</td>\n",
       "      <td>175396.26160</td>\n",
       "      <td>175021.145758</td>\n",
       "      <td>375.115842</td>\n",
       "    </tr>\n",
       "    <tr>\n",
       "      <th>7</th>\n",
       "      <td>113132.0</td>\n",
       "      <td>145680.59050</td>\n",
       "      <td>145525.331210</td>\n",
       "      <td>155.259290</td>\n",
       "    </tr>\n",
       "    <tr>\n",
       "      <th>8</th>\n",
       "      <td>46177.0</td>\n",
       "      <td>88481.51178</td>\n",
       "      <td>88749.449684</td>\n",
       "      <td>-267.937904</td>\n",
       "    </tr>\n",
       "    <tr>\n",
       "      <th>9</th>\n",
       "      <td>17303.0</td>\n",
       "      <td>63814.70273</td>\n",
       "      <td>64265.142265</td>\n",
       "      <td>-450.439535</td>\n",
       "    </tr>\n",
       "    <tr>\n",
       "      <th>10</th>\n",
       "      <td>153606.0</td>\n",
       "      <td>180257.17950</td>\n",
       "      <td>179846.099322</td>\n",
       "      <td>411.080178</td>\n",
       "    </tr>\n",
       "    <tr>\n",
       "      <th>11</th>\n",
       "      <td>59551.0</td>\n",
       "      <td>99906.80457</td>\n",
       "      <td>100090.210486</td>\n",
       "      <td>-183.405916</td>\n",
       "    </tr>\n",
       "    <tr>\n",
       "      <th>12</th>\n",
       "      <td>32892.0</td>\n",
       "      <td>77132.25091</td>\n",
       "      <td>77484.158278</td>\n",
       "      <td>-351.907368</td>\n",
       "    </tr>\n",
       "    <tr>\n",
       "      <th>13</th>\n",
       "      <td>14469.0</td>\n",
       "      <td>61393.64099</td>\n",
       "      <td>61861.993161</td>\n",
       "      <td>-468.352171</td>\n",
       "    </tr>\n",
       "    <tr>\n",
       "      <th>14</th>\n",
       "      <td>38772.0</td>\n",
       "      <td>82155.48418</td>\n",
       "      <td>82470.226284</td>\n",
       "      <td>-314.742104</td>\n",
       "    </tr>\n",
       "    <tr>\n",
       "      <th>15</th>\n",
       "      <td>137388.0</td>\n",
       "      <td>166402.28200</td>\n",
       "      <td>166093.709708</td>\n",
       "      <td>308.572292</td>\n",
       "    </tr>\n",
       "    <tr>\n",
       "      <th>16</th>\n",
       "      <td>86530.0</td>\n",
       "      <td>122954.73150</td>\n",
       "      <td>122967.613335</td>\n",
       "      <td>-12.881835</td>\n",
       "    </tr>\n",
       "    <tr>\n",
       "      <th>17</th>\n",
       "      <td>149129.0</td>\n",
       "      <td>176432.51700</td>\n",
       "      <td>176049.734277</td>\n",
       "      <td>382.782723</td>\n",
       "    </tr>\n",
       "    <tr>\n",
       "      <th>18</th>\n",
       "      <td>120844.0</td>\n",
       "      <td>152268.88560</td>\n",
       "      <td>152064.881630</td>\n",
       "      <td>204.003970</td>\n",
       "    </tr>\n",
       "    <tr>\n",
       "      <th>19</th>\n",
       "      <td>34384.0</td>\n",
       "      <td>78406.85364</td>\n",
       "      <td>78749.330636</td>\n",
       "      <td>-342.476996</td>\n",
       "    </tr>\n",
       "  </tbody>\n",
       "</table>\n",
       "</div>"
      ],
      "text/plain": [
       "    R&D Spend  Profit Actual  Profit Predicted  Difference\n",
       "0      9316.0    56991.47755      57492.399890 -500.922340\n",
       "1    110481.0   143415.86410     143277.360754  138.503346\n",
       "2     55700.0    96616.92850      96824.675130 -207.746630\n",
       "3    113736.0   146196.58250     146037.505543  159.076957\n",
       "4     19561.0    65743.69265      66179.860217 -436.167567\n",
       "5    155679.0   182028.12550     181603.942685  424.182815\n",
       "6    147916.0   175396.26160     175021.145758  375.115842\n",
       "7    113132.0   145680.59050     145525.331210  155.259290\n",
       "8     46177.0    88481.51178      88749.449684 -267.937904\n",
       "9     17303.0    63814.70273      64265.142265 -450.439535\n",
       "10   153606.0   180257.17950     179846.099322  411.080178\n",
       "11    59551.0    99906.80457     100090.210486 -183.405916\n",
       "12    32892.0    77132.25091      77484.158278 -351.907368\n",
       "13    14469.0    61393.64099      61861.993161 -468.352171\n",
       "14    38772.0    82155.48418      82470.226284 -314.742104\n",
       "15   137388.0   166402.28200     166093.709708  308.572292\n",
       "16    86530.0   122954.73150     122967.613335  -12.881835\n",
       "17   149129.0   176432.51700     176049.734277  382.782723\n",
       "18   120844.0   152268.88560     152064.881630  204.003970\n",
       "19    34384.0    78406.85364      78749.330636 -342.476996"
      ]
     },
     "execution_count": 73,
     "metadata": {},
     "output_type": "execute_result"
    }
   ],
   "source": [
    "# Show avp_df DataFrame\n",
    "avp_df[0:20]"
   ]
  },
  {
   "cell_type": "code",
   "execution_count": 74,
   "metadata": {},
   "outputs": [],
   "source": [
    "# Save acutal vs predicted DataFrame to a csv. 'r' is for raw data.\n",
    "avp_df.to_csv(r'actual_vs_predicted.csv')"
   ]
  },
  {
   "cell_type": "markdown",
   "metadata": {},
   "source": [
    "### 7. Model Tuning"
   ]
  },
  {
   "cell_type": "markdown",
   "metadata": {},
   "source": [
    "### 8. Final Model"
   ]
  },
  {
   "cell_type": "markdown",
   "metadata": {},
   "source": [
    "#### Creating model coefficient DataFrame"
   ]
  },
  {
   "cell_type": "code",
   "execution_count": 76,
   "metadata": {
    "scrolled": true
   },
   "outputs": [
    {
     "data": {
      "text/html": [
       "<div>\n",
       "<style scoped>\n",
       "    .dataframe tbody tr th:only-of-type {\n",
       "        vertical-align: middle;\n",
       "    }\n",
       "\n",
       "    .dataframe tbody tr th {\n",
       "        vertical-align: top;\n",
       "    }\n",
       "\n",
       "    .dataframe thead th {\n",
       "        text-align: right;\n",
       "    }\n",
       "</style>\n",
       "<table border=\"1\" class=\"dataframe\">\n",
       "  <thead>\n",
       "    <tr style=\"text-align: right;\">\n",
       "      <th></th>\n",
       "      <th>R&amp;D Spend</th>\n",
       "    </tr>\n",
       "  </thead>\n",
       "  <tbody>\n",
       "    <tr>\n",
       "      <th>0</th>\n",
       "      <td>0.847971</td>\n",
       "    </tr>\n",
       "  </tbody>\n",
       "</table>\n",
       "</div>"
      ],
      "text/plain": [
       "   R&D Spend\n",
       "0   0.847971"
      ]
     },
     "execution_count": 76,
     "metadata": {},
     "output_type": "execute_result"
    }
   ],
   "source": [
    "# Assigning model coefficient\n",
    "\n",
    "coef = model.coef_\n",
    "coef.shape # Do not need reshaping as output is in (1,1) format.\n",
    "\n",
    "\n",
    "# Creating a Dataframe\n",
    "coef_df = pd.DataFrame(coef, columns = ['R&D Spend'])\n",
    "\n",
    "\n",
    "# Displayinng DataFrame\n",
    "coef_df\n"
   ]
  },
  {
   "cell_type": "markdown",
   "metadata": {},
   "source": [
    "#### Creating a function from the model and predicting"
   ]
  },
  {
   "cell_type": "code",
   "execution_count": 77,
   "metadata": {},
   "outputs": [
    {
     "name": "stdout",
     "output_type": "stream",
     "text": [
      "The predicted Profit is:  [176788.31679955]\n"
     ]
    }
   ],
   "source": [
    "# Declaring function features\n",
    "RD_Spend = 150000\n",
    "\n",
    "# Regression Formula for pred\n",
    "# y = a + bx + ..   \n",
    "# Where y = Profit, a = intercept,  b = Coefficient for R&D Spend and x = R&D Spend\n",
    "# Prediction Calculator\n",
    "profit_prediction = (model.intercept_) + (coef_df[['R&D Spend']].values[0] * RD_Spend)\n",
    "\n",
    "print('The predicted Profit is: ', profit_prediction)"
   ]
  },
  {
   "cell_type": "markdown",
   "metadata": {},
   "source": [
    "### 9. Deploy Model"
   ]
  }
 ],
 "metadata": {
  "kernelspec": {
   "display_name": "Python 3",
   "language": "python",
   "name": "python3"
  },
  "language_info": {
   "codemirror_mode": {
    "name": "ipython",
    "version": 3
   },
   "file_extension": ".py",
   "mimetype": "text/x-python",
   "name": "python",
   "nbconvert_exporter": "python",
   "pygments_lexer": "ipython3",
   "version": "3.8.5"
  }
 },
 "nbformat": 4,
 "nbformat_minor": 4
}
